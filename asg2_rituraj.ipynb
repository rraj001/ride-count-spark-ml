{
 "cells": [
  {
   "cell_type": "markdown",
   "metadata": {
    "application/vnd.databricks.v1+cell": {
     "cellMetadata": {
      "byteLimit": 2048000,
      "rowLimit": 10000
     },
     "inputWidgets": {},
     "nuid": "36f9f228-a6d4-4112-ac74-64a0b564ac85",
     "showTitle": false,
     "title": ""
    }
   },
   "source": [
    "# CS4225/CS5425 Assignment 2"
   ]
  },
  {
   "cell_type": "markdown",
   "metadata": {
    "application/vnd.databricks.v1+cell": {
     "cellMetadata": {
      "byteLimit": 2048000,
      "rowLimit": 10000
     },
     "inputWidgets": {},
     "nuid": "ccfc2f1b-1142-4a36-ae5a-3a1deca6548a",
     "showTitle": false,
     "title": ""
    }
   },
   "source": [
    "## 1. Data Preparation"
   ]
  },
  {
   "cell_type": "code",
   "execution_count": 0,
   "metadata": {
    "application/vnd.databricks.v1+cell": {
     "cellMetadata": {
      "byteLimit": 2048000,
      "rowLimit": 10000
     },
     "inputWidgets": {},
     "nuid": "f657236b-404d-44bc-919a-f60f239552ee",
     "showTitle": false,
     "title": ""
    }
   },
   "outputs": [
    {
     "output_type": "stream",
     "name": "stderr",
     "output_type": "stream",
     "text": [
      "  % Total    % Received % Xferd  Average Speed   Time    Time     Time  Current\n                                 Dload  Upload   Total   Spent    Left  Speed\n\r  0     0    0     0    0     0      0      0 --:--:-- --:--:-- --:--:--     0\r  0  116M    0     0    0     0      0      0 --:--:-- --:--:-- --:--:--     0\r 11  116M   11 13.0M    0     0  8310k      0  0:00:14  0:00:01  0:00:13 8310k\r 30  116M   30 35.5M    0     0  13.6M      0  0:00:08  0:00:02  0:00:06 13.6M\r 51  116M   51 60.2M    0     0  16.5M      0  0:00:07  0:00:03  0:00:04 16.5M\r 72  116M   72 84.8M    0     0  18.4M      0  0:00:06  0:00:04  0:00:02 18.4M\r 92  116M   92  108M    0     0  19.3M      0  0:00:06  0:00:05  0:00:01 21.8M\r100  116M  100  116M    0     0  19.6M      0  0:00:05  0:00:05 --:--:-- 23.9M\n"
     ]
    },
    {
     "output_type": "stream",
     "name": "stdout",
     "output_type": "stream",
     "text": [
      "Archive:  /tmp/202206-citibike-tripdata.csv.zip\n  inflating: 202206-citbike-tripdata.csv  \n  inflating: __MACOSX/._202206-citbike-tripdata.csv  \n"
     ]
    },
    {
     "output_type": "stream",
     "name": "stderr",
     "output_type": "stream",
     "text": [
      "  % Total    % Received % Xferd  Average Speed   Time    Time     Time  Current\n                                 Dload  Upload   Total   Spent    Left  Speed\n\r  0     0    0     0    0     0      0      0 --:--:-- --:--:-- --:--:--     0\r  0  111M    0 53793    0     0  84303      0  0:23:04 --:--:--  0:23:04 84315\r 16  111M   16 18.4M    0     0  11.4M      0  0:00:09  0:00:01  0:00:08 11.4M\r 43  111M   43 48.0M    0     0  18.4M      0  0:00:06  0:00:02  0:00:04 18.4M\r 74  111M   74 83.1M    0     0  23.0M      0  0:00:04  0:00:03  0:00:01 23.0M\r 97  111M   97  109M    0     0  23.6M      0  0:00:04  0:00:04 --:--:-- 23.6M\r100  111M  100  111M    0     0  23.7M      0  0:00:04  0:00:04 --:--:-- 27.4M\n"
     ]
    },
    {
     "output_type": "stream",
     "name": "stdout",
     "output_type": "stream",
     "text": [
      "Archive:  /tmp/202207-citibike-tripdata.csv.zip\n  inflating: 202207-citbike-tripdata.csv  \n  inflating: __MACOSX/._202207-citbike-tripdata.csv  \n"
     ]
    },
    {
     "output_type": "stream",
     "name": "stderr",
     "output_type": "stream",
     "text": [
      "  % Total    % Received % Xferd  Average Speed   Time    Time     Time  Current\n                                 Dload  Upload   Total   Spent    Left  Speed\n\r  0     0    0     0    0     0      0      0 --:--:-- --:--:-- --:--:--     0\r  0  126M    0  129k    0     0   179k      0  0:12:00 --:--:--  0:12:00  179k\r 15  126M   15 20.2M    0     0  11.6M      0  0:00:10  0:00:01  0:00:09 11.6M\r 35  126M   35 44.5M    0     0  16.3M      0  0:00:07  0:00:02  0:00:05 16.3M\r 54  126M   54 69.4M    0     0  18.6M      0  0:00:06  0:00:03  0:00:03 18.6M\r 71  126M   71 90.9M    0     0  19.2M      0  0:00:06  0:00:04  0:00:02 19.2M\r 91  126M   91  116M    0     0  20.3M      0  0:00:06  0:00:05  0:00:01 23.1M\r100  126M  100  126M    0     0  20.5M      0  0:00:06  0:00:06 --:--:-- 24.0M\n"
     ]
    },
    {
     "output_type": "stream",
     "name": "stdout",
     "output_type": "stream",
     "text": [
      "Archive:  /tmp/202208-citibike-tripdata.csv.zip\n  inflating: 202208-citibike-tripdata.csv  \n  inflating: __MACOSX/._202208-citibike-tripdata.csv  \n"
     ]
    },
    {
     "output_type": "stream",
     "name": "stderr",
     "output_type": "stream",
     "text": [
      "  % Total    % Received % Xferd  Average Speed   Time    Time     Time  Current\n                                 Dload  Upload   Total   Spent    Left  Speed\n\r  0     0    0     0    0     0      0      0 --:--:-- --:--:-- --:--:--     0\r  0  118M    0  134k    0     0   177k      0  0:11:23 --:--:--  0:11:23  177k\r 14  118M   14 17.2M    0     0   9.9M      0  0:00:11  0:00:01  0:00:10  9.9M\r 34  118M   34 41.5M    0     0  15.2M      0  0:00:07  0:00:02  0:00:05 15.2M\r 56  118M   56 66.9M    0     0  17.9M      0  0:00:06  0:00:03  0:00:03 17.9M\r 78  118M   78 93.1M    0     0  19.7M      0  0:00:06  0:00:04  0:00:02 19.7M\r100  118M  100  118M    0     0  20.9M      0  0:00:05  0:00:05 --:--:-- 24.1M\n"
     ]
    },
    {
     "output_type": "stream",
     "name": "stdout",
     "output_type": "stream",
     "text": [
      "Archive:  /tmp/202209-citibike-tripdata.csv.zip\n  inflating: 202209-citibike-tripdata.csv  \n  inflating: __MACOSX/._202209-citibike-tripdata.csv  \n"
     ]
    },
    {
     "output_type": "stream",
     "name": "stderr",
     "output_type": "stream",
     "text": [
      "  % Total    % Received % Xferd  Average Speed   Time    Time     Time  Current\n                                 Dload  Upload   Total   Spent    Left  Speed\n\r  0     0    0     0    0     0      0      0 --:--:-- --:--:-- --:--:--     0\r  0  110M    0  100k    0     0   147k      0  0:12:48 --:--:--  0:12:48  147k\r 14  110M   14 16.0M    0     0  9941k      0  0:00:11  0:00:01  0:00:10 9938k\r 35  110M   35 38.8M    0     0  14.8M      0  0:00:07  0:00:02  0:00:05 14.8M\r 57  110M   57 63.4M    0     0  17.4M      0  0:00:06  0:00:03  0:00:03 17.4M\r 78  110M   78 87.1M    0     0  18.8M      0  0:00:05  0:00:04  0:00:01 18.8M\r100  110M  100  110M    0     0  19.9M      0  0:00:05  0:00:05 --:--:-- 22.7M\n"
     ]
    },
    {
     "output_type": "stream",
     "name": "stdout",
     "output_type": "stream",
     "text": [
      "Archive:  /tmp/202210-citibike-tripdata.csv.zip\n  inflating: 202210-citibike-tripdata.csv  \n  inflating: __MACOSX/._202210-citibike-tripdata.csv  \n"
     ]
    },
    {
     "output_type": "stream",
     "name": "stderr",
     "output_type": "stream",
     "text": [
      "  % Total    % Received % Xferd  Average Speed   Time    Time     Time  Current\n                                 Dload  Upload   Total   Spent    Left  Speed\n\r  0     0    0     0    0     0      0      0 --:--:-- --:--:-- --:--:--     0\r  0 92.5M    0  492k    0     0   644k      0  0:02:27 --:--:--  0:02:27  643k\r 25 92.5M   25 23.3M    0     0  13.0M      0  0:00:07  0:00:01  0:00:06 13.0M\r 48 92.5M   48 45.0M    0     0  15.9M      0  0:00:05  0:00:02  0:00:03 15.9M\r 73 92.5M   73 68.0M    0     0  18.0M      0  0:00:05  0:00:03  0:00:02 18.0M\r 97 92.5M   97 90.2M    0     0  19.0M      0  0:00:04  0:00:04 --:--:-- 19.0M\r100 92.5M  100 92.5M    0     0  19.2M      0  0:00:04  0:00:04 --:--:-- 22.8M\n"
     ]
    },
    {
     "output_type": "stream",
     "name": "stdout",
     "output_type": "stream",
     "text": [
      "Archive:  /tmp/202211-citibike-tripdata.csv.zip\n  inflating: 202211-citibike-tripdata.csv  \n  inflating: __MACOSX/._202211-citibike-tripdata.csv  \n"
     ]
    },
    {
     "output_type": "stream",
     "name": "stderr",
     "output_type": "stream",
     "text": [
      "  % Total    % Received % Xferd  Average Speed   Time    Time     Time  Current\n                                 Dload  Upload   Total   Spent    Left  Speed\n\r  0     0    0     0    0     0      0      0 --:--:-- --:--:-- --:--:--     0\r  0 58.3M    0     0    0     0      0      0 --:--:-- --:--:-- --:--:--     0\r 18 58.3M   18 10.5M    0     0  8110k      0  0:00:07  0:00:01  0:00:06 8108k\r 54 58.3M   54 31.6M    0     0  13.7M      0  0:00:04  0:00:02  0:00:02 13.7M\r 97 58.3M   97 56.6M    0     0  17.1M      0  0:00:03  0:00:03 --:--:-- 17.1M\r100 58.3M  100 58.3M    0     0  17.3M      0  0:00:03  0:00:03 --:--:-- 17.3M\n"
     ]
    },
    {
     "output_type": "stream",
     "name": "stdout",
     "output_type": "stream",
     "text": [
      "Archive:  /tmp/202212-citibike-tripdata.csv.zip\n  inflating: 202212-citibike-tripdata.csv  \n  inflating: __MACOSX/._202212-citibike-tripdata.csv  \n"
     ]
    },
    {
     "output_type": "stream",
     "name": "stderr",
     "output_type": "stream",
     "text": [
      "  % Total    % Received % Xferd  Average Speed   Time    Time     Time  Current\n                                 Dload  Upload   Total   Spent    Left  Speed\n\r  0     0    0     0    0     0      0      0 --:--:-- --:--:-- --:--:--     0\r  0 66.3M    0  152k    0     0   198k      0  0:05:42 --:--:--  0:05:42  198k\r 27 66.3M   27 17.9M    0     0  10.2M      0  0:00:06  0:00:01  0:00:05 10.2M\r 64 66.3M   64 42.7M    0     0  15.6M      0  0:00:04  0:00:02  0:00:02 15.6M\r100 66.3M  100 66.3M    0     0  18.4M      0  0:00:03  0:00:03 --:--:-- 18.4M\n"
     ]
    },
    {
     "output_type": "stream",
     "name": "stdout",
     "output_type": "stream",
     "text": [
      "Archive:  /tmp/202301-citibike-tripdata.csv.zip\n  inflating: 202301-citibike-tripdata.csv  \n  inflating: __MACOSX/._202301-citibike-tripdata.csv  \n"
     ]
    },
    {
     "output_type": "stream",
     "name": "stderr",
     "output_type": "stream",
     "text": [
      "  % Total    % Received % Xferd  Average Speed   Time    Time     Time  Current\n                                 Dload  Upload   Total   Spent    Left  Speed\n\r  0     0    0     0    0     0      0      0 --:--:-- --:--:-- --:--:--     0\r  0     0    0     0    0     0      0      0 --:--:-- --:--:-- --:--:--     0\r 11 62.4M   11 7131k    0     0  6035k      0  0:00:10  0:00:01  0:00:09 6033k\r 52 62.4M   52 32.5M    0     0  14.6M      0  0:00:04  0:00:02  0:00:02 14.6M\r 93 62.4M   93 58.1M    0     0  18.1M      0  0:00:03  0:00:03 --:--:-- 18.1M\r100 62.4M  100 62.4M    0     0  18.6M      0  0:00:03  0:00:03 --:--:-- 18.6M\n"
     ]
    },
    {
     "output_type": "stream",
     "name": "stdout",
     "output_type": "stream",
     "text": [
      "Archive:  /tmp/202302-citibike-tripdata.csv.zip\n  inflating: 202302-citibike-tripdata.csv  \n  inflating: __MACOSX/._202302-citibike-tripdata.csv  \n"
     ]
    },
    {
     "output_type": "stream",
     "name": "stderr",
     "output_type": "stream",
     "text": [
      "  % Total    % Received % Xferd  Average Speed   Time    Time     Time  Current\n                                 Dload  Upload   Total   Spent    Left  Speed\n\r  0     0    0     0    0     0      0      0 --:--:-- --:--:-- --:--:--     0\r  0     0    0     0    0     0      0      0 --:--:-- --:--:-- --:--:--     0\r  7 81.8M    7 6327k    0     0  4966k      0  0:00:16  0:00:01  0:00:15 4966k\r 38 81.8M   38 31.7M    0     0  13.9M      0  0:00:05  0:00:02  0:00:03 13.9M\r 71 81.8M   71 58.2M    0     0  17.7M      0  0:00:04  0:00:03  0:00:01 17.7M\r100 81.8M  100 81.8M    0     0  19.8M      0  0:00:04  0:00:04 --:--:-- 19.8M\n"
     ]
    },
    {
     "output_type": "stream",
     "name": "stdout",
     "output_type": "stream",
     "text": [
      "Archive:  /tmp/202303-citibike-tripdata.csv.zip\n  inflating: 202303-citibike-tripdata.csv  \n  inflating: __MACOSX/._202303-citibike-tripdata.csv  \n"
     ]
    },
    {
     "output_type": "stream",
     "name": "stderr",
     "output_type": "stream",
     "text": [
      "  % Total    % Received % Xferd  Average Speed   Time    Time     Time  Current\n                                 Dload  Upload   Total   Spent    Left  Speed\n\r  0     0    0     0    0     0      0      0 --:--:-- --:--:-- --:--:--     0\r  0     0    0     0    0     0      0      0 --:--:-- --:--:-- --:--:--     0\r  3 99.2M    3 3365k    0     0  3204k      0  0:00:31  0:00:01  0:00:30 3202k\r 26 99.2M   26 26.1M    0     0  12.9M      0  0:00:07  0:00:02  0:00:05 12.9M\r 51 99.2M   51 51.0M    0     0  16.7M      0  0:00:05  0:00:03  0:00:02 16.7M\r 75 99.2M   75 74.6M    0     0  18.6M      0  0:00:05  0:00:04  0:00:01 18.6M\r100 99.2M  100 99.2M    0     0  19.8M      0  0:00:04  0:00:04 --:--:-- 20.1M\n"
     ]
    },
    {
     "output_type": "stream",
     "name": "stdout",
     "output_type": "stream",
     "text": [
      "Archive:  /tmp/202304-citibike-tripdata.csv.zip\n  inflating: 202304-citibike-tripdata.csv  \n  inflating: __MACOSX/._202304-citibike-tripdata.csv  \n"
     ]
    },
    {
     "output_type": "stream",
     "name": "stderr",
     "output_type": "stream",
     "text": [
      "  % Total    % Received % Xferd  Average Speed   Time    Time     Time  Current\n                                 Dload  Upload   Total   Spent    Left  Speed\n\r  0     0    0     0    0     0      0      0 --:--:-- --:--:-- --:--:--     0\r  2  130M    2 3724k    0     0  3646k      0  0:00:36  0:00:01  0:00:35 3647k\r 21  130M   21 27.7M    0     0  13.7M      0  0:00:09  0:00:02  0:00:07 13.7M\r 39  130M   39 51.7M    0     0  17.1M      0  0:00:07  0:00:03  0:00:04 17.1M\r 57  130M   57 74.8M    0     0  18.6M      0  0:00:07  0:00:04  0:00:03 18.6M\r 76  130M   76 99.7M    0     0  19.9M      0  0:00:06  0:00:05  0:00:01 19.9M\r 95  130M   95  124M    0     0  20.8M      0  0:00:06  0:00:05  0:00:01 24.3M\r100  130M  100  130M    0     0  21.0M      0  0:00:06  0:00:06 --:--:-- 24.5M\n"
     ]
    },
    {
     "output_type": "stream",
     "name": "stdout",
     "output_type": "stream",
     "text": [
      "Archive:  /tmp/202305-citibike-tripdata.csv.zip\n  inflating: 202305-citibike-tripdata.csv  \n  inflating: __MACOSX/._202305-citibike-tripdata.csv  \n"
     ]
    },
    {
     "output_type": "stream",
     "name": "stderr",
     "output_type": "stream",
     "text": [
      "  % Total    % Received % Xferd  Average Speed   Time    Time     Time  Current\n                                 Dload  Upload   Total   Spent    Left  Speed\n\r  0     0    0     0    0     0      0      0 --:--:-- --:--:-- --:--:--     0\r  0  135M    0     0    0     0      0      0 --:--:-- --:--:-- --:--:--     0\r 11  135M   11 15.2M    0     0  10.6M      0  0:00:12  0:00:01  0:00:11 10.6M\r 29  135M   29 40.1M    0     0  16.3M      0  0:00:08  0:00:02  0:00:06 16.3M\r 48  135M   48 65.6M    0     0  19.1M      0  0:00:07  0:00:03  0:00:04 19.1M\r 68  135M   68 92.7M    0     0  20.8M      0  0:00:06  0:00:04  0:00:02 20.8M\r 87  135M   87  118M    0     0  21.7M      0  0:00:06  0:00:05  0:00:01 24.0M\r100  135M  100  135M    0     0  22.3M      0  0:00:06  0:00:06 --:--:-- 25.9M\n"
     ]
    },
    {
     "output_type": "stream",
     "name": "stdout",
     "output_type": "stream",
     "text": [
      "Archive:  /tmp/202306-citibike-tripdata.csv.zip\n  inflating: 202306-citibike-tripdata.csv  \n  inflating: __MACOSX/._202306-citibike-tripdata.csv  \n"
     ]
    },
    {
     "output_type": "stream",
     "name": "stderr",
     "output_type": "stream",
     "text": [
      "  % Total    % Received % Xferd  Average Speed   Time    Time     Time  Current\n                                 Dload  Upload   Total   Spent    Left  Speed\n\r  0     0    0     0    0     0      0      0 --:--:-- --:--:-- --:--:--     0\r  0  145M    0  763k    0     0   808k      0  0:03:04 --:--:--  0:03:04  808k\r 15  145M   15 22.6M    0     0  11.6M      0  0:00:12  0:00:01  0:00:11 11.6M\r 32  145M   32 46.6M    0     0  15.8M      0  0:00:09  0:00:02  0:00:07 15.8M\r 48  145M   48 70.0M    0     0  17.9M      0  0:00:08  0:00:03  0:00:05 17.9M\r 65  145M   65 95.5M    0     0  19.5M      0  0:00:07  0:00:04  0:00:03 19.5M\r 80  145M   80  116M    0     0  19.7M      0  0:00:07  0:00:05  0:00:02 23.4M\r 97  145M   97  142M    0     0  20.6M      0  0:00:07  0:00:06  0:00:01 24.1M\r100  145M  100  145M    0     0  20.7M      0  0:00:07  0:00:07 --:--:-- 24.2M\n"
     ]
    },
    {
     "output_type": "stream",
     "name": "stdout",
     "output_type": "stream",
     "text": [
      "Archive:  /tmp/202307-citibike-tripdata.csv.zip\n  inflating: 202307-citibike-tripdata.csv  \n  inflating: __MACOSX/._202307-citibike-tripdata.csv  \n"
     ]
    }
   ],
   "source": [
    "%sh curl  https://s3.amazonaws.com/tripdata/202201-citibike-tripdata.csv.zip --output /tmp/202201-citibike-tripdata.csv.zip\n",
    "unzip /tmp/202201-citibike-tripdata.csv.zip\n",
    "curl  https://s3.amazonaws.com/tripdata/202202-citibike-tripdata.csv.zip --output /tmp/202202-citibike-tripdata.csv.zip\n",
    "unzip /tmp/202202-citibike-tripdata.csv.zip\n",
    " curl  https://s3.amazonaws.com/tripdata/202203-citibike-tripdata.csv.zip --output /tmp/202203-citibike-tripdata.csv.zip\n",
    "unzip /tmp/202203-citibike-tripdata.csv.zip\n",
    "curl  https://s3.amazonaws.com/tripdata/202204-citibike-tripdata.csv.zip --output /tmp/202204-citibike-tripdata.csv.zip\n",
    "unzip /tmp/202204-citibike-tripdata.csv.zip\n",
    " curl  https://s3.amazonaws.com/tripdata/202205-citibike-tripdata.csv.zip --output /tmp/202205-citibike-tripdata.csv.zip\n",
    "unzip /tmp/202205-citibike-tripdata.csv.zip\n",
    "curl  https://s3.amazonaws.com/tripdata/202206-citbike-tripdata.csv.zip --output /tmp/202206-citibike-tripdata.csv.zip\n",
    "unzip /tmp/202206-citibike-tripdata.csv.zip\n",
    "curl  https://s3.amazonaws.com/tripdata/202207-citbike-tripdata.csv.zip --output /tmp/202207-citibike-tripdata.csv.zip\n",
    "unzip /tmp/202207-citibike-tripdata.csv.zip\n",
    " curl  https://s3.amazonaws.com/tripdata/202208-citibike-tripdata.csv.zip --output /tmp/202208-citibike-tripdata.csv.zip\n",
    "unzip /tmp/202208-citibike-tripdata.csv.zip\n",
    "curl  https://s3.amazonaws.com/tripdata/202209-citibike-tripdata.csv.zip --output /tmp/202209-citibike-tripdata.csv.zip\n",
    "unzip /tmp/202209-citibike-tripdata.csv.zip\n",
    " curl  https://s3.amazonaws.com/tripdata/202210-citibike-tripdata.csv.zip --output /tmp/202210-citibike-tripdata.csv.zip\n",
    "unzip /tmp/202210-citibike-tripdata.csv.zip\n",
    " curl  https://s3.amazonaws.com/tripdata/202211-citibike-tripdata.csv.zip --output /tmp/202211-citibike-tripdata.csv.zip\n",
    "unzip /tmp/202211-citibike-tripdata.csv.zip\n",
    " curl  https://s3.amazonaws.com/tripdata/202212-citibike-tripdata.csv.zip --output /tmp/202212-citibike-tripdata.csv.zip\n",
    "unzip /tmp/202212-citibike-tripdata.csv.zip\n",
    " curl  https://s3.amazonaws.com/tripdata/202301-citibike-tripdata.csv.zip --output /tmp/202301-citibike-tripdata.csv.zip\n",
    "unzip /tmp/202301-citibike-tripdata.csv.zip\n",
    " curl  https://s3.amazonaws.com/tripdata/202302-citibike-tripdata.csv.zip --output /tmp/202302-citibike-tripdata.csv.zip\n",
    "unzip /tmp/202302-citibike-tripdata.csv.zip\n",
    " curl  https://s3.amazonaws.com/tripdata/202303-citibike-tripdata.csv.zip --output /tmp/202303-citibike-tripdata.csv.zip\n",
    "unzip /tmp/202303-citibike-tripdata.csv.zip\n",
    " curl  https://s3.amazonaws.com/tripdata/202304-citibike-tripdata.csv.zip --output /tmp/202304-citibike-tripdata.csv.zip\n",
    "unzip /tmp/202304-citibike-tripdata.csv.zip\n",
    " curl  https://s3.amazonaws.com/tripdata/202305-citibike-tripdata.csv.zip --output /tmp/202305-citibike-tripdata.csv.zip\n",
    "unzip /tmp/202305-citibike-tripdata.csv.zip\n",
    " curl  https://s3.amazonaws.com/tripdata/202306-citibike-tripdata.csv.zip --output /tmp/202306-citibike-tripdata.csv.zip\n",
    "unzip /tmp/202306-citibike-tripdata.csv.zip\n",
    " curl  https://s3.amazonaws.com/tripdata/202307-citibike-tripdata.csv.zip --output /tmp/202307-citibike-tripdata.csv.zip\n",
    "unzip /tmp/202307-citibike-tripdata.csv.zip"
   ]
  },
  {
   "cell_type": "code",
   "execution_count": 0,
   "metadata": {
    "application/vnd.databricks.v1+cell": {
     "cellMetadata": {
      "byteLimit": 2048000,
      "rowLimit": 10000
     },
     "inputWidgets": {},
     "nuid": "d466d1ca-b610-4425-a2ef-df835e841dd1",
     "showTitle": false,
     "title": ""
    }
   },
   "outputs": [
    {
     "output_type": "stream",
     "name": "stdout",
     "output_type": "stream",
     "text": [
      "02204-citibike-tripdata.csv.zip --output \n02205-citibike-tripdata.csv.zip --output \n202201-citibike-tripdata.csv\n202202-citibike-tripdata.csv\n202203-citibike-tripdata.csv\n202204-citibike-tripdata.csv\n202205-citibike-tripdata.csv\n202206-citbike-tripdata.csv\n202207-citbike-tripdata.csv\n202208-citibike-tripdata.csv\n202209-citibike-tripdata.csv\n202210-citibike-tripdata.csv\n202211-citibike-tripdata.csv\n202212-citibike-tripdata.csv\n202301-citibike-tripdata.csv\n202302-citibike-tripdata.csv\n202303-citibike-tripdata.csv\n202304-citibike-tripdata.csv\n202305-citibike-tripdata.csv\n202306-citibike-tripdata.csv\n202307-citibike-tripdata.csv\n__MACOSX\nazure\nconf\neventlogs\nhadoop_accessed_config.lst\nlogs\nmetastore_db\npreload_class.lst\n"
     ]
    }
   ],
   "source": []
  },
  {
   "cell_type": "code",
   "execution_count": 0,
   "metadata": {
    "application/vnd.databricks.v1+cell": {
     "cellMetadata": {
      "byteLimit": 2048000,
      "rowLimit": 10000
     },
     "inputWidgets": {},
     "nuid": "3c7fdbed-b552-4f51-bc1a-07f1562ba579",
     "showTitle": false,
     "title": ""
    }
   },
   "outputs": [
    {
     "output_type": "execute_result",
     "data": {
      "text/plain": [
       "True"
      ]
     },
     "execution_count": 47,
     "metadata": {},
     "output_type": "execute_result"
    }
   ],
   "source": [
    "dbutils.fs.mv(\"file:/databricks/driver/202201-citibike-tripdata.csv\", \"dbfs:/tmp/202201-citibike-tripdata.csv\")\n",
    "dbutils.fs.mv(\"file:/databricks/driver/202202-citibike-tripdata.csv\", \"dbfs:/tmp/202202-citibike-tripdata.csv\")\n",
    "dbutils.fs.mv(\"file:/databricks/driver/202203-citibike-tripdata.csv\", \"dbfs:/tmp/202203-citibike-tripdata.csv\")\n",
    "dbutils.fs.mv(\"file:/databricks/driver/202204-citibike-tripdata.csv\", \"dbfs:/tmp/202204-citibike-tripdata.csv\")\n",
    "dbutils.fs.mv(\"file:/databricks/driver/202205-citibike-tripdata.csv\", \"dbfs:/tmp/202205-citibike-tripdata.csv\")\n",
    "dbutils.fs.mv(\"file:/databricks/driver/202206-citbike-tripdata.csv\", \"dbfs:/tmp/202206-citibike-tripdata.csv\")\n",
    "dbutils.fs.mv(\"file:/databricks/driver/202207-citbike-tripdata.csv\", \"dbfs:/tmp/202207-citibike-tripdata.csv\")\n",
    "dbutils.fs.mv(\"file:/databricks/driver/202208-citibike-tripdata.csv\", \"dbfs:/tmp/202208-citibike-tripdata.csv\")\n",
    "dbutils.fs.mv(\"file:/databricks/driver/202209-citibike-tripdata.csv\", \"dbfs:/tmp/202209-citibike-tripdata.csv\")\n",
    "dbutils.fs.mv(\"file:/databricks/driver/202210-citibike-tripdata.csv\", \"dbfs:/tmp/202210-citibike-tripdata.csv\")\n",
    "dbutils.fs.mv(\"file:/databricks/driver/202211-citibike-tripdata.csv\", \"dbfs:/tmp/202211-citibike-tripdata.csv\")\n",
    "dbutils.fs.mv(\"file:/databricks/driver/202212-citibike-tripdata.csv\", \"dbfs:/tmp/202212-citibike-tripdata.csv\")\n",
    "dbutils.fs.mv(\"file:/databricks/driver/202301-citibike-tripdata.csv\", \"dbfs:/tmp/202301-citibike-tripdata.csv\")\n",
    "dbutils.fs.mv(\"file:/databricks/driver/202302-citibike-tripdata.csv\", \"dbfs:/tmp/202302-citibike-tripdata.csv\")\n",
    "dbutils.fs.mv(\"file:/databricks/driver/202303-citibike-tripdata.csv\", \"dbfs:/tmp/202303-citibike-tripdata.csv\")\n",
    "dbutils.fs.mv(\"file:/databricks/driver/202304-citibike-tripdata.csv\", \"dbfs:/tmp/202304-citibike-tripdata.csv\")\n",
    "dbutils.fs.mv(\"file:/databricks/driver/202305-citibike-tripdata.csv\", \"dbfs:/tmp/202305-citibike-tripdata.csv\")\n",
    "dbutils.fs.mv(\"file:/databricks/driver/202306-citibike-tripdata.csv\", \"dbfs:/tmp/202306-citibike-tripdata.csv\")\n",
    "dbutils.fs.mv(\"file:/databricks/driver/202307-citibike-tripdata.csv\", \"dbfs:/tmp/202307-citibike-tripdata.csv\")\n"
   ]
  },
  {
   "cell_type": "code",
   "execution_count": 0,
   "metadata": {
    "application/vnd.databricks.v1+cell": {
     "cellMetadata": {
      "byteLimit": 2048000,
      "rowLimit": 10000
     },
     "inputWidgets": {},
     "nuid": "96d0c52e-6e12-47b5-a585-7e20df7abf22",
     "showTitle": false,
     "title": ""
    }
   },
   "outputs": [],
   "source": [
    "from pyspark.sql.functions import radians,to_timestamp, to_date,col,unix_timestamp ,sin, cos, sqrt, atan2, pow,dayofweek, when\n",
    "from pyspark.ml.feature import StringIndexer, OneHotEncoder\n",
    "from pyspark.sql import functions as F\n",
    "\n",
    "#read all csv files using \n",
    "df = spark.read.csv(\"dbfs:/tmp/*.csv\", header=True, inferSchema=True)\n",
    "# Convert string column to timestamp\n",
    "df = df.withColumn(\"datetime\", to_date(col(\"started_at\"), \"yyyy-MM-dd HH:mm:ss\"))\n",
    "result = df.withColumn(\"day_of_week\", dayofweek(\"datetime\"))\n",
    "\n",
    "# Create a new column 'is_weekend' based on the day_of_week\n",
    "result = result.withColumn(\"is_weekend\", when((result[\"day_of_week\"] == 1) | (result[\"day_of_week\"] == 7), 1).otherwise(0))\n",
    "\n",
    "\n",
    "result = result.groupBy(\"datetime\").agg(\n",
    "    F.count(\"ride_id\").alias(\"trip_count\"),\n",
    "    F.max(\"is_weekend\").alias(\"is_weekend\")  # Preserve the raw 'is_weekend' values\n",
    ").orderBy(\"datetime\")\n",
    "\n",
    "#read weather data\n",
    "weatherdf = spark.read.csv(\"dbfs:/FileStore/weather_data.csv\", header=True, inferSchema=True)\n",
    "# cal today daylught duration\n",
    "weatherdf = weatherdf.withColumn(\"day_duration\", (unix_timestamp(col(\"sunset\")) - unix_timestamp(col(\"sunrise\"))))\n",
    "\n",
    "\n",
    "merged_df = result.join(weatherdf, on='datetime', how='inner').orderBy(col(\"datetime\").asc())\n",
    "\n",
    "merged_df.write.mode(\"overwrite\").parquet(\"dbfs:/FileStore/my_saved_data\")\n",
    "#display(merged_df.limit(50))\n"
   ]
  },
  {
   "cell_type": "markdown",
   "metadata": {
    "application/vnd.databricks.v1+cell": {
     "cellMetadata": {
      "byteLimit": 2048000,
      "rowLimit": 10000
     },
     "inputWidgets": {},
     "nuid": "122f1731-f2ee-4352-ae6a-c581fc7e62a9",
     "showTitle": false,
     "title": ""
    }
   },
   "source": [
    "## 2. Build ML Pipeline using Training Data"
   ]
  },
  {
   "cell_type": "code",
   "execution_count": 0,
   "metadata": {
    "application/vnd.databricks.v1+cell": {
     "cellMetadata": {
      "byteLimit": 2048000,
      "rowLimit": 10000
     },
     "inputWidgets": {},
     "nuid": "f37f3841-87cd-40eb-a55d-e2a45fb72ff4",
     "showTitle": false,
     "title": ""
    }
   },
   "outputs": [],
   "source": [
    "from pyspark.sql.functions import year, month, dayofmonth,weekofyear\n",
    "from pyspark.ml.feature import StringIndexer, OneHotEncoder, StandardScaler, MinMaxScaler,VectorAssembler,MinMaxScaler\n",
    "from pyspark.ml.regression import LinearRegression,RandomForestRegressor\n",
    "from pyspark.ml import Pipeline\n",
    "from pyspark.ml.evaluation import RegressionEvaluator\n",
    "\n",
    "# Reading the saved data back into a DataFrame\n",
    "read_df = spark.read.parquet(\"dbfs:/FileStore/my_saved_data\")\n",
    "# Adding year, month, and day columns\n",
    "read_df = read_df.withColumn('year', year('datetime'))\n",
    "read_df = read_df.withColumn('month', month('datetime'))\n",
    "read_df = read_df.withColumn('day', dayofmonth('datetime'))\n",
    "read_df = read_df.withColumn('week_number', weekofyear('datetime'))\n",
    "\n",
    "# Filtering train and test data\n",
    "train_df = read_df.filter(read_df[\"year\"] == 2022)\n",
    "test_df = read_df.filter(read_df[\"year\"] == 2023)\n",
    "\n",
    "# One-hot encode icon,day\n",
    "indexer_weather_icon = StringIndexer(inputCol='icon', outputCol='icon_index')\n",
    "encoder_weather_icon = OneHotEncoder(inputCols=['icon_index'], outputCols=['icon_vec'])\n",
    "indexer_day = StringIndexer(inputCol='day', outputCol='day_index')\n",
    "encoder_day = OneHotEncoder(inputCols=['day_index'], outputCols=['day_vec'])\n",
    "# List of feature columns excluding 'trip_count'\n",
    "feature_cols = ['is_weekend', 'dew','humidity','temp','tempmax', 'tempmin',\n",
    "                'day_duration','uvindex','visibility', 'winddir','windspeed','icon_vec']\n",
    "\n",
    "\n",
    "# Combine feature columns with the one-hot encoded year, month, and day\n",
    "assembler = VectorAssembler(inputCols=feature_cols , outputCol='raw_features')\n",
    "\n",
    "# Scaling the assembled features\n",
    "scaler = MinMaxScaler(inputCol=\"raw_features\", outputCol=\"features\")\n",
    "\n",
    "# Random Forest model\n",
    "lr = RandomForestRegressor(featuresCol='features', labelCol='trip_count')\n",
    "\n",
    "# Creating a pipeline\n",
    "pipeline = Pipeline(stages=[indexer_weather_icon,encoder_weather_icon,assembler, scaler, lr])\n",
    "\n",
    "pipeline_model = pipeline.fit(train_df)\n",
    "\n",
    "\n"
   ]
  },
  {
   "cell_type": "markdown",
   "metadata": {
    "application/vnd.databricks.v1+cell": {
     "cellMetadata": {
      "byteLimit": 2048000,
      "rowLimit": 10000
     },
     "inputWidgets": {},
     "nuid": "339bc069-d8f8-4c5e-8095-e63680985cd2",
     "showTitle": false,
     "title": ""
    }
   },
   "source": [
    "## 3. Evaluate ML Pipeline using Testing Data"
   ]
  },
  {
   "cell_type": "code",
   "execution_count": 0,
   "metadata": {
    "application/vnd.databricks.v1+cell": {
     "cellMetadata": {
      "byteLimit": 2048000,
      "rowLimit": 10000
     },
     "inputWidgets": {},
     "nuid": "b1207950-6146-4281-83ff-e4d9ab970611",
     "showTitle": false,
     "title": ""
    }
   },
   "outputs": [
    {
     "output_type": "stream",
     "name": "stdout",
     "output_type": "stream",
     "text": [
      "+---+-----+----------+------------------+\n|day|month|trip_count|        prediction|\n+---+-----+----------+------------------+\n|  1|    1|     52561| 74397.73259681894|\n|  2|    1|     60369|  73145.2819812436|\n|  3|    1|     53591| 43042.47927858691|\n|  4|    1|     76968| 86286.49950826347|\n|  5|    1|     74016|43539.751410621546|\n|  6|    1|     67023|48471.248774009524|\n|  7|    1|     61270| 64464.89904429482|\n|  8|    1|     51149|53170.232269604094|\n|  9|    1|     63617|  62038.3506437859|\n| 10|    1|     68693|  58784.6984087902|\n+---+-----+----------+------------------+\nonly showing top 10 rows\n\nMean Absolute Error (MAE) on test data = 11831.9\nMean Absolute Error (R2) on test data = 0.763744\n"
     ]
    }
   ],
   "source": [
    "# Making predictions on the test data\n",
    "predictions = pipeline_model.transform(test_df)\n",
    "\n",
    "comparison = predictions.select('day','month','trip_count', 'prediction').show(10)\n",
    "\n",
    "evaluator = RegressionEvaluator(labelCol=\"trip_count\", predictionCol=\"prediction\", metricName=\"mae\")\n",
    "\n",
    "mae = evaluator.evaluate(predictions)\n",
    "print(\"Mean Absolute Error (MAE) on test data = %g\" % mae)\n",
    "\n",
    "evaluator_r2 = RegressionEvaluator(labelCol=\"trip_count\", predictionCol=\"prediction\", metricName=\"r2\")\n",
    "\n",
    "r2 = evaluator_r2.evaluate(predictions)\n",
    "print(\"Mean Absolute Error (R2) on test data = %g\" % r2)\n"
   ]
  },
  {
   "cell_type": "code",
   "execution_count": 0,
   "metadata": {
    "application/vnd.databricks.v1+cell": {
     "cellMetadata": {
      "byteLimit": 2048000,
      "rowLimit": 10000
     },
     "inputWidgets": {},
     "nuid": "48f37c77-de20-4555-a0da-0d1b615e70f9",
     "showTitle": false,
     "title": ""
    }
   },
   "outputs": [],
   "source": []
  },
  {
   "cell_type": "code",
   "execution_count": 0,
   "metadata": {
    "application/vnd.databricks.v1+cell": {
     "cellMetadata": {
      "byteLimit": 2048000,
      "rowLimit": 10000
     },
     "inputWidgets": {},
     "nuid": "1610c3ca-a4aa-4175-bd95-8c397b35d318",
     "showTitle": false,
     "title": ""
    }
   },
   "outputs": [],
   "source": []
  },
  {
   "cell_type": "code",
   "execution_count": 0,
   "metadata": {
    "application/vnd.databricks.v1+cell": {
     "cellMetadata": {
      "byteLimit": 2048000,
      "rowLimit": 10000
     },
     "inputWidgets": {},
     "nuid": "0d214ec5-5271-4dfd-8de7-d5f115ae10c7",
     "showTitle": false,
     "title": ""
    }
   },
   "outputs": [],
   "source": []
  },
  {
   "cell_type": "code",
   "execution_count": 0,
   "metadata": {
    "application/vnd.databricks.v1+cell": {
     "cellMetadata": {
      "byteLimit": 2048000,
      "rowLimit": 10000
     },
     "inputWidgets": {},
     "nuid": "60d1d77a-b2ac-42ed-a153-027637c43752",
     "showTitle": false,
     "title": ""
    }
   },
   "outputs": [],
   "source": []
  }
 ],
 "metadata": {
  "application/vnd.databricks.v1+notebook": {
   "dashboards": [],
   "language": "python",
   "notebookMetadata": {
    "mostRecentlyExecutedCommandWithImplicitDF": {
     "commandId": -1,
     "dataframes": [
      "_sqldf"
     ]
    },
    "pythonIndentUnit": 4
   },
   "notebookName": "assignment_2_student",
   "widgets": {}
  }
 },
 "nbformat": 4,
 "nbformat_minor": 0
}
